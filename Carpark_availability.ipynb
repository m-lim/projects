{
 "cells": [
  {
   "cell_type": "markdown",
   "metadata": {},
   "source": [
    "# Analysing the effect of Circuit Breaker measures on HDB carpark availability\n",
    "\n",
    "*Madeline Lim, July 2020*\n",
    "\n",
    "## Introduction\n",
    "\n",
    "This piece of analysis is inspired by a post by the NUS Urban Analytics Lab, [Singapore's urban data affirms the compliance with the Circuit Breaker measures](https://ual.sg/post/2020/04/12/singapores-urban-data-affirms-the-compliance-with-the-circuit-breaker-measures/), which analysed various urban data trends to determine the impact of the Circuit Breaker (CB) imposed in Singapore in April 2020. \n",
    "\n",
    "The analysis included car traffic trends, with HDB carpark availability used as a proxy for car traffic. \n",
    "\n",
    "In this project, we aim to replicate the HDB carpark availabilty analysis, as well as uncover any longer-term trends during the post-CB period in phase 1 and 2, since the original post was published in April.\n",
    "\n",
    "<img src=\"https://ual.sg/post/2020/04/12/singapores-urban-data-affirms-the-compliance-with-the-circuit-breaker-measures/carpark_availability_panels_hu68363be4eb0f2a7d65c49f491202cb0b_353679_2000x2000_fit_lanczos_2.png\" width=500 />\n",
    "<p style=\"text-align: center;\"><i>Source: NUS Urban Analytics Lab</i></p>\n",
    "\n",
    "## Data sources\n",
    "\n",
    "Our primary data source is the [Carpark Availability](https://data.gov.sg/dataset/carpark-availability) dataset from Data.gov.sg.\n",
    "\n",
    "Additional information on individual carparks can be found [here](https://data.gov.sg/dataset/hdb-carpark-information), however for simplicity's sake we will aggregate carpark data across all carparks, and analyse these trends over time."
   ]
  },
  {
   "cell_type": "markdown",
   "metadata": {},
   "source": [
    "## Exploring real-time data\n",
    "\n",
    "Before jumping into analysing historical trends, let's explore what carpark data is available for us to analyse. We'll first take a look at the real-time carpark data information."
   ]
  },
  {
   "cell_type": "code",
   "execution_count": 104,
   "metadata": {},
   "outputs": [],
   "source": [
    "import datetime as dt\n",
    "import json\n",
    "import numpy as np\n",
    "import pandas as pd\n",
    "import requests\n",
    "import seaborn as sns"
   ]
  },
  {
   "cell_type": "code",
   "execution_count": 9,
   "metadata": {},
   "outputs": [],
   "source": [
    "url = 'https://api.data.gov.sg/v1/transport/carpark-availability'\n",
    "time = dt.datetime.now().isoformat()\n",
    "payload = {'date_time': time}\n",
    "\n",
    "r = requests.get(url, params = payload).json()"
   ]
  },
  {
   "cell_type": "code",
   "execution_count": 226,
   "metadata": {},
   "outputs": [
    {
     "data": {
      "text/html": [
       "<div>\n",
       "<style scoped>\n",
       "    .dataframe tbody tr th:only-of-type {\n",
       "        vertical-align: middle;\n",
       "    }\n",
       "\n",
       "    .dataframe tbody tr th {\n",
       "        vertical-align: top;\n",
       "    }\n",
       "\n",
       "    .dataframe thead th {\n",
       "        text-align: right;\n",
       "    }\n",
       "</style>\n",
       "<table border=\"1\" class=\"dataframe\">\n",
       "  <thead>\n",
       "    <tr style=\"text-align: right;\">\n",
       "      <th></th>\n",
       "      <th>total_lots</th>\n",
       "      <th>lot_type</th>\n",
       "      <th>lots_available</th>\n",
       "      <th>timestamp</th>\n",
       "      <th>carpark_data.carpark_number</th>\n",
       "    </tr>\n",
       "  </thead>\n",
       "  <tbody>\n",
       "    <tr>\n",
       "      <th>0</th>\n",
       "      <td>91</td>\n",
       "      <td>C</td>\n",
       "      <td>88</td>\n",
       "      <td>2020-07-10T11:59:27+08:00</td>\n",
       "      <td>HE12</td>\n",
       "    </tr>\n",
       "    <tr>\n",
       "      <th>1</th>\n",
       "      <td>583</td>\n",
       "      <td>C</td>\n",
       "      <td>154</td>\n",
       "      <td>2020-07-10T11:59:27+08:00</td>\n",
       "      <td>HLM</td>\n",
       "    </tr>\n",
       "    <tr>\n",
       "      <th>2</th>\n",
       "      <td>322</td>\n",
       "      <td>C</td>\n",
       "      <td>102</td>\n",
       "      <td>2020-07-10T11:59:27+08:00</td>\n",
       "      <td>RHM</td>\n",
       "    </tr>\n",
       "    <tr>\n",
       "      <th>3</th>\n",
       "      <td>97</td>\n",
       "      <td>C</td>\n",
       "      <td>19</td>\n",
       "      <td>2020-07-10T11:59:27+08:00</td>\n",
       "      <td>BM29</td>\n",
       "    </tr>\n",
       "    <tr>\n",
       "      <th>4</th>\n",
       "      <td>96</td>\n",
       "      <td>C</td>\n",
       "      <td>0</td>\n",
       "      <td>2020-07-10T11:59:27+08:00</td>\n",
       "      <td>Q81</td>\n",
       "    </tr>\n",
       "    <tr>\n",
       "      <th>...</th>\n",
       "      <td>...</td>\n",
       "      <td>...</td>\n",
       "      <td>...</td>\n",
       "      <td>...</td>\n",
       "      <td>...</td>\n",
       "    </tr>\n",
       "    <tr>\n",
       "      <th>2216</th>\n",
       "      <td>45</td>\n",
       "      <td>Y</td>\n",
       "      <td>34</td>\n",
       "      <td>2020-07-10T11:59:27+08:00</td>\n",
       "      <td>ACM</td>\n",
       "    </tr>\n",
       "    <tr>\n",
       "      <th>2217</th>\n",
       "      <td>10</td>\n",
       "      <td>H</td>\n",
       "      <td>0</td>\n",
       "      <td>2020-07-10T11:59:27+08:00</td>\n",
       "      <td>ACM</td>\n",
       "    </tr>\n",
       "    <tr>\n",
       "      <th>2218</th>\n",
       "      <td>81</td>\n",
       "      <td>C</td>\n",
       "      <td>4</td>\n",
       "      <td>2020-07-10T11:59:27+08:00</td>\n",
       "      <td>CKT2</td>\n",
       "    </tr>\n",
       "    <tr>\n",
       "      <th>2219</th>\n",
       "      <td>260</td>\n",
       "      <td>C</td>\n",
       "      <td>260</td>\n",
       "      <td>2020-07-10T11:59:27+08:00</td>\n",
       "      <td>TM54</td>\n",
       "    </tr>\n",
       "    <tr>\n",
       "      <th>2220</th>\n",
       "      <td>30</td>\n",
       "      <td>C</td>\n",
       "      <td>19</td>\n",
       "      <td>2020-07-10T11:59:27+08:00</td>\n",
       "      <td>JS5L</td>\n",
       "    </tr>\n",
       "  </tbody>\n",
       "</table>\n",
       "<p>2221 rows × 5 columns</p>\n",
       "</div>"
      ],
      "text/plain": [
       "      total_lots lot_type  lots_available                  timestamp  \\\n",
       "0             91        C              88  2020-07-10T11:59:27+08:00   \n",
       "1            583        C             154  2020-07-10T11:59:27+08:00   \n",
       "2            322        C             102  2020-07-10T11:59:27+08:00   \n",
       "3             97        C              19  2020-07-10T11:59:27+08:00   \n",
       "4             96        C               0  2020-07-10T11:59:27+08:00   \n",
       "...          ...      ...             ...                        ...   \n",
       "2216          45        Y              34  2020-07-10T11:59:27+08:00   \n",
       "2217          10        H               0  2020-07-10T11:59:27+08:00   \n",
       "2218          81        C               4  2020-07-10T11:59:27+08:00   \n",
       "2219         260        C             260  2020-07-10T11:59:27+08:00   \n",
       "2220          30        C              19  2020-07-10T11:59:27+08:00   \n",
       "\n",
       "     carpark_data.carpark_number  \n",
       "0                           HE12  \n",
       "1                            HLM  \n",
       "2                            RHM  \n",
       "3                           BM29  \n",
       "4                            Q81  \n",
       "...                          ...  \n",
       "2216                         ACM  \n",
       "2217                         ACM  \n",
       "2218                        CKT2  \n",
       "2219                        TM54  \n",
       "2220                        JS5L  \n",
       "\n",
       "[2221 rows x 5 columns]"
      ]
     },
     "execution_count": 226,
     "metadata": {},
     "output_type": "execute_result"
    }
   ],
   "source": [
    "results = r['items']\n",
    "\n",
    "carparks = pd.json_normalize(results, ['carpark_data', 'carpark_info'], ['timestamp', ['carpark_data', 'carpark_number']])\n",
    "carparks['total_lots'] = carparks['total_lots'].astype(int)\n",
    "carparks['lots_available'] = carparks['lots_available'].astype(int)\n",
    "\n",
    "carparks"
   ]
  },
  {
   "cell_type": "code",
   "execution_count": 227,
   "metadata": {},
   "outputs": [
    {
     "name": "stdout",
     "output_type": "stream",
     "text": [
      "Timestamp: 2020-07-10T12:00:05.588869\n",
      "Number of HDB carparks: 1905\n",
      "Total number of parking lots: 719016\n",
      "Number of available parking lots: 350428\n",
      "Occupancy: 51.26 %\n"
     ]
    }
   ],
   "source": [
    "number_carparks = carparks['carpark_data.carpark_number'].nunique()\n",
    "total_lots = carparks['total_lots'].sum()\n",
    "lots_available = carparks['lots_available'].sum()\n",
    "\n",
    "print('Timestamp:', time)\n",
    "print('Number of HDB carparks:', number_carparks)\n",
    "print('Total number of parking lots:', total_lots)\n",
    "print('Number of available parking lots:', lots_available)\n",
    "print('Occupancy:', ((total_lots - lots_available) * 100/ total_lots).round(2), '%')"
   ]
  },
  {
   "cell_type": "markdown",
   "metadata": {},
   "source": [
    "We can see that the dataset returns data for 1,905 unique HDB carparks.\n",
    "\n",
    "As of 10 July 2020, at 12pm, of ~72,000 parking lots across all HDB carparks, there are ~35,000 available parking lots. This translates to an occupancy rate of 51%."
   ]
  },
  {
   "cell_type": "markdown",
   "metadata": {},
   "source": [
    "## Setting up analysis for historical data\n",
    "\n",
    "Let's now set up the relevant code for us to take a look at historical carpark data over the past few months. \n",
    "\n",
    "We'll use the function `create_df` to create a dataframe with hourly timestamps in each row. To decrease the number of API calls made, we will only look at the time period between 6am to 9pm each day.\n",
    "\n",
    "Let's first take a look at data from the week starting 6 April (i.e. 6 to 12 April) - the week that the Circuit Breaker measures took effect. "
   ]
  },
  {
   "cell_type": "code",
   "execution_count": 107,
   "metadata": {},
   "outputs": [],
   "source": [
    "def create_df(start_date, end_date):\n",
    "    df = pd.DataFrame({'date': pd.date_range(start_date, end_date, freq='1H', closed='left')})\n",
    "    df['hour'] = df['date'].dt.hour\n",
    "    df['day'] = df['date'].dt.strftime('%A')\n",
    "    df = df[df.hour > 5]\n",
    "    df = df[df.hour < 22]\n",
    "    df = df.reset_index(drop = True)\n",
    "    df['date'] = pd.to_datetime(df['date']).dt.strftime('%Y-%m-%dT%H:%M%:%S')\n",
    "    return df"
   ]
  },
  {
   "cell_type": "code",
   "execution_count": 108,
   "metadata": {},
   "outputs": [
    {
     "data": {
      "text/html": [
       "<div>\n",
       "<style scoped>\n",
       "    .dataframe tbody tr th:only-of-type {\n",
       "        vertical-align: middle;\n",
       "    }\n",
       "\n",
       "    .dataframe tbody tr th {\n",
       "        vertical-align: top;\n",
       "    }\n",
       "\n",
       "    .dataframe thead th {\n",
       "        text-align: right;\n",
       "    }\n",
       "</style>\n",
       "<table border=\"1\" class=\"dataframe\">\n",
       "  <thead>\n",
       "    <tr style=\"text-align: right;\">\n",
       "      <th></th>\n",
       "      <th>date</th>\n",
       "      <th>hour</th>\n",
       "      <th>day</th>\n",
       "    </tr>\n",
       "  </thead>\n",
       "  <tbody>\n",
       "    <tr>\n",
       "      <th>0</th>\n",
       "      <td>2020-04-06T06:00:00</td>\n",
       "      <td>6</td>\n",
       "      <td>Monday</td>\n",
       "    </tr>\n",
       "    <tr>\n",
       "      <th>1</th>\n",
       "      <td>2020-04-06T07:00:00</td>\n",
       "      <td>7</td>\n",
       "      <td>Monday</td>\n",
       "    </tr>\n",
       "    <tr>\n",
       "      <th>2</th>\n",
       "      <td>2020-04-06T08:00:00</td>\n",
       "      <td>8</td>\n",
       "      <td>Monday</td>\n",
       "    </tr>\n",
       "    <tr>\n",
       "      <th>3</th>\n",
       "      <td>2020-04-06T09:00:00</td>\n",
       "      <td>9</td>\n",
       "      <td>Monday</td>\n",
       "    </tr>\n",
       "    <tr>\n",
       "      <th>4</th>\n",
       "      <td>2020-04-06T10:00:00</td>\n",
       "      <td>10</td>\n",
       "      <td>Monday</td>\n",
       "    </tr>\n",
       "    <tr>\n",
       "      <th>...</th>\n",
       "      <td>...</td>\n",
       "      <td>...</td>\n",
       "      <td>...</td>\n",
       "    </tr>\n",
       "    <tr>\n",
       "      <th>107</th>\n",
       "      <td>2020-04-12T17:00:00</td>\n",
       "      <td>17</td>\n",
       "      <td>Sunday</td>\n",
       "    </tr>\n",
       "    <tr>\n",
       "      <th>108</th>\n",
       "      <td>2020-04-12T18:00:00</td>\n",
       "      <td>18</td>\n",
       "      <td>Sunday</td>\n",
       "    </tr>\n",
       "    <tr>\n",
       "      <th>109</th>\n",
       "      <td>2020-04-12T19:00:00</td>\n",
       "      <td>19</td>\n",
       "      <td>Sunday</td>\n",
       "    </tr>\n",
       "    <tr>\n",
       "      <th>110</th>\n",
       "      <td>2020-04-12T20:00:00</td>\n",
       "      <td>20</td>\n",
       "      <td>Sunday</td>\n",
       "    </tr>\n",
       "    <tr>\n",
       "      <th>111</th>\n",
       "      <td>2020-04-12T21:00:00</td>\n",
       "      <td>21</td>\n",
       "      <td>Sunday</td>\n",
       "    </tr>\n",
       "  </tbody>\n",
       "</table>\n",
       "<p>112 rows × 3 columns</p>\n",
       "</div>"
      ],
      "text/plain": [
       "                    date  hour     day\n",
       "0    2020-04-06T06:00:00     6  Monday\n",
       "1    2020-04-06T07:00:00     7  Monday\n",
       "2    2020-04-06T08:00:00     8  Monday\n",
       "3    2020-04-06T09:00:00     9  Monday\n",
       "4    2020-04-06T10:00:00    10  Monday\n",
       "..                   ...   ...     ...\n",
       "107  2020-04-12T17:00:00    17  Sunday\n",
       "108  2020-04-12T18:00:00    18  Sunday\n",
       "109  2020-04-12T19:00:00    19  Sunday\n",
       "110  2020-04-12T20:00:00    20  Sunday\n",
       "111  2020-04-12T21:00:00    21  Sunday\n",
       "\n",
       "[112 rows x 3 columns]"
      ]
     },
     "execution_count": 108,
     "metadata": {},
     "output_type": "execute_result"
    }
   ],
   "source": [
    "apr6_apr12 = create_df('2020-04-06', '2020-04-13')\n",
    "\n",
    "apr6_apr12"
   ]
  },
  {
   "cell_type": "markdown",
   "metadata": {},
   "source": [
    "We then create the fuction `extract_data`, which takes the timestamp as an input and returns the **total number of lots** and the **number of available lots**. This is an aggregated value across all HDB carparks."
   ]
  },
  {
   "cell_type": "code",
   "execution_count": 65,
   "metadata": {},
   "outputs": [],
   "source": [
    "def extract_data(time):\n",
    "    url = 'https://api.data.gov.sg/v1/transport/carpark-availability'\n",
    "    payload = {'date_time': time}\n",
    "    r = requests.get(url, params = payload).json()\n",
    "    results = r['items']\n",
    "\n",
    "    carparks = pd.json_normalize(results, ['carpark_data', 'carpark_info'])\n",
    "    carparks['total_lots'] = carparks['total_lots'].astype(int)\n",
    "    carparks['lots_available'] = carparks['lots_available'].astype(int)\n",
    "    \n",
    "    values = {}\n",
    "    values['total_lots'] = carparks['total_lots'].sum()\n",
    "    values['lots_available'] = carparks['lots_available'].sum()\n",
    "    \n",
    "    return values"
   ]
  },
  {
   "cell_type": "markdown",
   "metadata": {},
   "source": [
    "Lastly, we use the function `fill_data` to loop through the dataframe, to apply the `extract_data` function to each row in order to get the required outputs."
   ]
  },
  {
   "cell_type": "code",
   "execution_count": 109,
   "metadata": {},
   "outputs": [],
   "source": [
    "def fill_data(dataset):\n",
    "    for i in range(len(dataset)): \n",
    "        input_time = dataset.loc[i, 'date']\n",
    "        output = extract_data(input_time)\n",
    "        dataset.loc[i, 'total_lots'] = output['total_lots']\n",
    "        dataset.loc[i, 'lots_available'] = output['lots_available']\n",
    "        dataset['occupancy'] = (dataset['total_lots'] - dataset['lots_available']) / dataset['total_lots']\n",
    "    return dataset"
   ]
  },
  {
   "cell_type": "code",
   "execution_count": 110,
   "metadata": {},
   "outputs": [
    {
     "data": {
      "text/html": [
       "<div>\n",
       "<style scoped>\n",
       "    .dataframe tbody tr th:only-of-type {\n",
       "        vertical-align: middle;\n",
       "    }\n",
       "\n",
       "    .dataframe tbody tr th {\n",
       "        vertical-align: top;\n",
       "    }\n",
       "\n",
       "    .dataframe thead th {\n",
       "        text-align: right;\n",
       "    }\n",
       "</style>\n",
       "<table border=\"1\" class=\"dataframe\">\n",
       "  <thead>\n",
       "    <tr style=\"text-align: right;\">\n",
       "      <th></th>\n",
       "      <th>date</th>\n",
       "      <th>hour</th>\n",
       "      <th>day</th>\n",
       "      <th>total_lots</th>\n",
       "      <th>lots_available</th>\n",
       "      <th>occupancy</th>\n",
       "    </tr>\n",
       "  </thead>\n",
       "  <tbody>\n",
       "    <tr>\n",
       "      <th>0</th>\n",
       "      <td>2020-04-06T06:00:00</td>\n",
       "      <td>6</td>\n",
       "      <td>Monday</td>\n",
       "      <td>716951.0</td>\n",
       "      <td>330005.0</td>\n",
       "      <td>0.539711</td>\n",
       "    </tr>\n",
       "    <tr>\n",
       "      <th>1</th>\n",
       "      <td>2020-04-06T07:00:00</td>\n",
       "      <td>7</td>\n",
       "      <td>Monday</td>\n",
       "      <td>717106.0</td>\n",
       "      <td>378000.0</td>\n",
       "      <td>0.472881</td>\n",
       "    </tr>\n",
       "    <tr>\n",
       "      <th>2</th>\n",
       "      <td>2020-04-06T08:00:00</td>\n",
       "      <td>8</td>\n",
       "      <td>Monday</td>\n",
       "      <td>716951.0</td>\n",
       "      <td>422538.0</td>\n",
       "      <td>0.410646</td>\n",
       "    </tr>\n",
       "    <tr>\n",
       "      <th>3</th>\n",
       "      <td>2020-04-06T09:00:00</td>\n",
       "      <td>9</td>\n",
       "      <td>Monday</td>\n",
       "      <td>716951.0</td>\n",
       "      <td>456378.0</td>\n",
       "      <td>0.363446</td>\n",
       "    </tr>\n",
       "    <tr>\n",
       "      <th>4</th>\n",
       "      <td>2020-04-06T10:00:00</td>\n",
       "      <td>10</td>\n",
       "      <td>Monday</td>\n",
       "      <td>716960.0</td>\n",
       "      <td>471746.0</td>\n",
       "      <td>0.342019</td>\n",
       "    </tr>\n",
       "    <tr>\n",
       "      <th>...</th>\n",
       "      <td>...</td>\n",
       "      <td>...</td>\n",
       "      <td>...</td>\n",
       "      <td>...</td>\n",
       "      <td>...</td>\n",
       "      <td>...</td>\n",
       "    </tr>\n",
       "    <tr>\n",
       "      <th>107</th>\n",
       "      <td>2020-04-12T17:00:00</td>\n",
       "      <td>17</td>\n",
       "      <td>Sunday</td>\n",
       "      <td>717374.0</td>\n",
       "      <td>349262.0</td>\n",
       "      <td>0.513138</td>\n",
       "    </tr>\n",
       "    <tr>\n",
       "      <th>108</th>\n",
       "      <td>2020-04-12T18:00:00</td>\n",
       "      <td>18</td>\n",
       "      <td>Sunday</td>\n",
       "      <td>717374.0</td>\n",
       "      <td>349413.0</td>\n",
       "      <td>0.512928</td>\n",
       "    </tr>\n",
       "    <tr>\n",
       "      <th>109</th>\n",
       "      <td>2020-04-12T19:00:00</td>\n",
       "      <td>19</td>\n",
       "      <td>Sunday</td>\n",
       "      <td>717374.0</td>\n",
       "      <td>346746.0</td>\n",
       "      <td>0.516645</td>\n",
       "    </tr>\n",
       "    <tr>\n",
       "      <th>110</th>\n",
       "      <td>2020-04-12T20:00:00</td>\n",
       "      <td>20</td>\n",
       "      <td>Sunday</td>\n",
       "      <td>717374.0</td>\n",
       "      <td>343921.0</td>\n",
       "      <td>0.520583</td>\n",
       "    </tr>\n",
       "    <tr>\n",
       "      <th>111</th>\n",
       "      <td>2020-04-12T21:00:00</td>\n",
       "      <td>21</td>\n",
       "      <td>Sunday</td>\n",
       "      <td>717262.0</td>\n",
       "      <td>339716.0</td>\n",
       "      <td>0.526371</td>\n",
       "    </tr>\n",
       "  </tbody>\n",
       "</table>\n",
       "<p>112 rows × 6 columns</p>\n",
       "</div>"
      ],
      "text/plain": [
       "                    date  hour     day  total_lots  lots_available  occupancy\n",
       "0    2020-04-06T06:00:00     6  Monday    716951.0        330005.0   0.539711\n",
       "1    2020-04-06T07:00:00     7  Monday    717106.0        378000.0   0.472881\n",
       "2    2020-04-06T08:00:00     8  Monday    716951.0        422538.0   0.410646\n",
       "3    2020-04-06T09:00:00     9  Monday    716951.0        456378.0   0.363446\n",
       "4    2020-04-06T10:00:00    10  Monday    716960.0        471746.0   0.342019\n",
       "..                   ...   ...     ...         ...             ...        ...\n",
       "107  2020-04-12T17:00:00    17  Sunday    717374.0        349262.0   0.513138\n",
       "108  2020-04-12T18:00:00    18  Sunday    717374.0        349413.0   0.512928\n",
       "109  2020-04-12T19:00:00    19  Sunday    717374.0        346746.0   0.516645\n",
       "110  2020-04-12T20:00:00    20  Sunday    717374.0        343921.0   0.520583\n",
       "111  2020-04-12T21:00:00    21  Sunday    717262.0        339716.0   0.526371\n",
       "\n",
       "[112 rows x 6 columns]"
      ]
     },
     "execution_count": 110,
     "metadata": {},
     "output_type": "execute_result"
    }
   ],
   "source": [
    "apr6_apr12 = fill_data(apr6_apr12)\n",
    "\n",
    "apr6_apr12"
   ]
  },
  {
   "cell_type": "markdown",
   "metadata": {},
   "source": [
    "Finally, we plot the results using a heatmap. We create a function `plot_heatmap` that returns a cleaned, formatted heatmap of the data."
   ]
  },
  {
   "cell_type": "code",
   "execution_count": 149,
   "metadata": {},
   "outputs": [],
   "source": [
    "def plot_heatmap(dataset, date):\n",
    "    heatmap_data = pd.pivot_table(dataset, values='occupancy', index=['hour'], columns='day')\n",
    "    column_order = ['Monday', 'Tuesday', 'Wednesday', 'Thursday', 'Friday', 'Saturday', 'Sunday']\n",
    "    heatmap_data = heatmap_data.reindex(column_order, axis=1)\n",
    "\n",
    "    ax = sns.heatmap(heatmap_data, vmin = 0.3, vmax = 0.6, linewidths = 0.5)\n",
    "    ax.tick_params(left = False, bottom = False)\n",
    "    ax.set_title(\"HDB carpark occupancy rate \\n {}\".format(date))\n",
    "    ax.set_xlabel(\"Day of week\")\n",
    "    ax.set_ylabel(\"Hour of day\")\n",
    "    ax.set_yticklabels(ax.get_yticklabels(), rotation = 0)\n",
    "    ax.set_xticklabels(['Mon', 'Tue', 'Wed', 'Thu', 'Fri', 'Sat', 'Sun'], rotation = 0)\n",
    "    \n",
    "    return ax"
   ]
  },
  {
   "cell_type": "code",
   "execution_count": 150,
   "metadata": {},
   "outputs": [
    {
     "data": {
      "text/plain": [
       "<matplotlib.axes._subplots.AxesSubplot at 0x1a1d4f3c90>"
      ]
     },
     "execution_count": 150,
     "metadata": {},
     "output_type": "execute_result"
    },
    {
     "data": {
      "image/png": "[encoded data removed]",
      "text/plain": [
       "<Figure size 432x288 with 2 Axes>"
      ]
     },
     "metadata": {
      "needs_background": "light"
     },
     "output_type": "display_data"
    }
   ],
   "source": [
    "plot_heatmap(apr6_apr12, \"6 - 12 Apr 20\")"
   ]
  },
  {
   "cell_type": "markdown",
   "metadata": {},
   "source": [
    "From the heatmap, we can see that the results for the week of 6 April are similar to the NUS UAL graphic, where a significant change in occupancy rate is seen from Tuesday onwards, when the Circuit Breaker was imposed."
   ]
  },
  {
   "cell_type": "markdown",
   "metadata": {},
   "source": [
    "## Exploring historical data\n",
    "\n",
    "We're now ready to explore historical trends. To recap, here's a timeline of Singapore's Circuit Breaker:\n",
    "\n",
    "| Start date | End date | Phase |\n",
    "| --- | --- | --- |\n",
    "| 7 Apr (Tue) | 1 Jun (Mon) | Circuit Breaker |\n",
    "| 2 Jun (Tue) | 18 Jun (Thu) | Phase 1 |\n",
    "| 19 Jun (Fri) | Present | Phase 2 |"
   ]
  },
  {
   "cell_type": "markdown",
   "metadata": {},
   "source": [
    "### Pre-COVID\n",
    "\n",
    "We'll use carpark data from one year ago as a proxy for pre-COVID trends. Specifically, the data from 1 to 7 April 2019 was used. \n",
    "\n",
    "The minimum occupancy reached in that week was 31% on a weekday, while minimum occupancy on Saturday reached 41%."
   ]
  },
  {
   "cell_type": "code",
   "execution_count": 172,
   "metadata": {
    "scrolled": true
   },
   "outputs": [
    {
     "data": {
      "text/plain": [
       "<matplotlib.axes._subplots.AxesSubplot at 0x1a1d96fbd0>"
      ]
     },
     "execution_count": 172,
     "metadata": {},
     "output_type": "execute_result"
    },
    {
     "data": {
      "image/png": "[encoded data removed]",
      "text/plain": [
       "<Figure size 432x288 with 2 Axes>"
      ]
     },
     "metadata": {
      "needs_background": "light"
     },
     "output_type": "display_data"
    }
   ],
   "source": [
    "# 1 Apr 2019 to 7 Apr 2019\n",
    "\n",
    "apr1_apr7 = create_df('2019-04-01', '2019-04-08')\n",
    "apr1_apr7 = fill_data(apr1_apr7)\n",
    "plot_heatmap(apr1_apr7, \"1 - 7 Apr 19\")"
   ]
  },
  {
   "cell_type": "code",
   "execution_count": 195,
   "metadata": {},
   "outputs": [
    {
     "name": "stdout",
     "output_type": "stream",
     "text": [
      "Minimum occupancy: 0.3051239427400045\n",
      "Minimum occupancy (weekend): 0.40717127923224217\n"
     ]
    }
   ],
   "source": [
    "print(\"Minimum occupancy:\", apr1_apr7['occupancy'].min())\n",
    "print(\"Minimum occupancy (weekend):\", apr1_apr7[apr1_apr7['day'].isin(['Saturday', 'Sunday'])]['occupancy'].min())"
   ]
  },
  {
   "cell_type": "markdown",
   "metadata": {},
   "source": [
    "### Pre-Circuit Breaker\n",
    "\n",
    "Prior to the official Circuit Breaker being announced, Singaporeans were already making changes to their behaviour, including working from home and reducing the amount of time spent outdoors.\n",
    "\n",
    "For this, we will take a look at data one week before the Circuit Breaker - from 30 March to 5 April.\n",
    "\n",
    "Minimum occupancy on Monday was at 31%, however, by Friday, 3 April, the day the Circuit Breaker measures were announced, this had increased to 34%. Minimum occupancy over the weekend also increased to 42%."
   ]
  },
  {
   "cell_type": "code",
   "execution_count": 176,
   "metadata": {},
   "outputs": [
    {
     "data": {
      "text/plain": [
       "<matplotlib.axes._subplots.AxesSubplot at 0x1a18c05390>"
      ]
     },
     "execution_count": 176,
     "metadata": {},
     "output_type": "execute_result"
    },
    {
     "data": {
      "image/png": "[encoded data removed]",
      "text/plain": [
       "<Figure size 432x288 with 2 Axes>"
      ]
     },
     "metadata": {
      "needs_background": "light"
     },
     "output_type": "display_data"
    }
   ],
   "source": [
    "# 30 Mar to 5 Apr\n",
    "\n",
    "mar30_apr5 = create_df('2020-03-30', '2020-04-06')\n",
    "mar30_apr5 = fill_data(mar30_apr5)\n",
    "plot_heatmap(mar30_apr5, \"30 Mar - 5 Apr 20\")"
   ]
  },
  {
   "cell_type": "code",
   "execution_count": 196,
   "metadata": {},
   "outputs": [
    {
     "name": "stdout",
     "output_type": "stream",
     "text": [
      "Minimum occupancy (Mon): 0.3105801334104707\n",
      "Minimum occupancy (Fri): 0.338541514355223\n",
      "Minimum occupancy (weekend): 0.42004060704468166\n"
     ]
    }
   ],
   "source": [
    "print(\"Minimum occupancy (Mon):\", mar30_apr5[mar30_apr5['day'] == \"Monday\"]['occupancy'].min())\n",
    "print(\"Minimum occupancy (Fri):\", mar30_apr5[mar30_apr5['day'] == \"Friday\"]['occupancy'].min())\n",
    "print(\"Minimum occupancy (weekend):\", mar30_apr5[mar30_apr5['day'].isin(['Saturday', 'Sunday'])]['occupancy'].min())"
   ]
  },
  {
   "cell_type": "markdown",
   "metadata": {},
   "source": [
    "### Circuit Breaker\n",
    "\n",
    "As seen in the above analysis, there was a significant increase in occupancy rates between Monday and Tuesday, when the Circuit Breaker started in Singapore.\n",
    "\n",
    "Excluding Monday (the day before the Circuit Breaker), minimum occupancy for the week rose to 42%. This figure rose further to 48% on the weekend."
   ]
  },
  {
   "cell_type": "code",
   "execution_count": 178,
   "metadata": {},
   "outputs": [
    {
     "data": {
      "text/plain": [
       "<matplotlib.axes._subplots.AxesSubplot at 0x1a1d98f4d0>"
      ]
     },
     "execution_count": 178,
     "metadata": {},
     "output_type": "execute_result"
    },
    {
     "data": {
      "image/png": "[encoded data removed]",
      "text/plain": [
       "<Figure size 432x288 with 2 Axes>"
      ]
     },
     "metadata": {
      "needs_background": "light"
     },
     "output_type": "display_data"
    }
   ],
   "source": [
    "# 6 Apr to 12 Apr\n",
    "\n",
    "plot_heatmap(apr6_apr12, \"6 - 12 Apr 20\")"
   ]
  },
  {
   "cell_type": "code",
   "execution_count": 197,
   "metadata": {},
   "outputs": [
    {
     "name": "stdout",
     "output_type": "stream",
     "text": [
      "Minimum occupancy (excluding Mon): 0.41910242910569695\n",
      "Minimum occupancy (weekend): 0.4784535578012884\n"
     ]
    }
   ],
   "source": [
    "print(\"Minimum occupancy (excluding Mon):\", apr6_apr12[apr6_apr12['day'] != \"Monday\"]['occupancy'].min())\n",
    "print(\"Minimum occupancy (weekend):\", apr6_apr12[apr6_apr12['day'].isin(['Saturday', 'Sunday'])]['occupancy'].min())"
   ]
  },
  {
   "cell_type": "markdown",
   "metadata": {},
   "source": [
    "### Phase 1\n",
    "\n",
    "The last day of the Circuit Breaker was on Monday, 1 June. Phase 1 began on Tuesday, 2 June. Minimum occupancy for the week fell to 38%.  The weekend figure also fell to 46%."
   ]
  },
  {
   "cell_type": "code",
   "execution_count": 152,
   "metadata": {},
   "outputs": [
    {
     "data": {
      "text/plain": [
       "<matplotlib.axes._subplots.AxesSubplot at 0x1a1d0028d0>"
      ]
     },
     "execution_count": 152,
     "metadata": {},
     "output_type": "execute_result"
    },
    {
     "data": {
      "image/png": "[encoded data removed]",
      "text/plain": [
       "<Figure size 432x288 with 2 Axes>"
      ]
     },
     "metadata": {
      "needs_background": "light"
     },
     "output_type": "display_data"
    }
   ],
   "source": [
    "# 1 June to 7 June\n",
    "\n",
    "jun1_jun7 = create_df('2020-06-01', '2020-06-08')\n",
    "jun1_jun7 = fill_data(jun1_jun7)\n",
    "plot_heatmap(jun1_jun7, \"1 - 7 Jun 20\")"
   ]
  },
  {
   "cell_type": "code",
   "execution_count": 198,
   "metadata": {},
   "outputs": [
    {
     "name": "stdout",
     "output_type": "stream",
     "text": [
      "Minimum occupancy: 0.3814642552408359\n",
      "Minimum occupancy (weekend): 0.456896167309536\n"
     ]
    }
   ],
   "source": [
    "print(\"Minimum occupancy:\", jun1_jun7['occupancy'].min())\n",
    "print(\"Minimum occupancy (weekend):\", jun1_jun7[jun1_jun7['day'].isin(['Saturday', 'Sunday'])]['occupancy'].min())"
   ]
  },
  {
   "cell_type": "markdown",
   "metadata": {},
   "source": [
    "### Phase 2\n",
    "\n",
    "Phase 2 finally began on Friday, 19 June. Minimum occupancy further fell on Friday to 37%. The weekend figure also fell to 44%."
   ]
  },
  {
   "cell_type": "code",
   "execution_count": 153,
   "metadata": {},
   "outputs": [
    {
     "data": {
      "text/plain": [
       "<matplotlib.axes._subplots.AxesSubplot at 0x1a1ada6550>"
      ]
     },
     "execution_count": 153,
     "metadata": {},
     "output_type": "execute_result"
    },
    {
     "data": {
      "image/png": "[encoded data removed]",
      "text/plain": [
       "<Figure size 432x288 with 2 Axes>"
      ]
     },
     "metadata": {
      "needs_background": "light"
     },
     "output_type": "display_data"
    }
   ],
   "source": [
    "# 15 June to 21 June\n",
    "\n",
    "jun15_jun21 = create_df('2020-06-15', '2020-06-22')\n",
    "jun15_jun21 = fill_data(jun15_jun21)\n",
    "plot_heatmap(jun15_jun21, \"15 - 21 Jun 20\")"
   ]
  },
  {
   "cell_type": "code",
   "execution_count": 199,
   "metadata": {},
   "outputs": [
    {
     "name": "stdout",
     "output_type": "stream",
     "text": [
      "Minimum occupancy: 0.3696153235886058\n",
      "Minimum occupancy (weekend): 0.4381049279445046\n"
     ]
    }
   ],
   "source": [
    "print(\"Minimum occupancy:\", jun15_jun21['occupancy'].min())\n",
    "print(\"Minimum occupancy (weekend):\", jun15_jun21[jun15_jun21['day'].isin(['Saturday', 'Sunday'])]['occupancy'].min())"
   ]
  },
  {
   "cell_type": "markdown",
   "metadata": {},
   "source": [
    "### Current occupancy levels\n",
    "\n",
    "Current occupancy rates are still substantially below pre-Circuit Breaker levels. The lowest occupancy for the week of 29 June to 5 July was 36%, while weekend minimum occupancy is at 43%."
   ]
  },
  {
   "cell_type": "code",
   "execution_count": 187,
   "metadata": {},
   "outputs": [
    {
     "data": {
      "text/plain": [
       "<matplotlib.axes._subplots.AxesSubplot at 0x1a1e1394d0>"
      ]
     },
     "execution_count": 187,
     "metadata": {},
     "output_type": "execute_result"
    },
    {
     "data": {
      "image/png": "[encoded data removed]",
      "text/plain": [
       "<Figure size 432x288 with 2 Axes>"
      ]
     },
     "metadata": {
      "needs_background": "light"
     },
     "output_type": "display_data"
    }
   ],
   "source": [
    "# 29 June to 5 July\n",
    "\n",
    "jun29_jul5 = create_df('2020-06-29', '2020-07-6')\n",
    "jun29_jul5 = fill_data(jun29_jul5)\n",
    "plot_heatmap(jun29_jul5, \"29 Jun - 5 Jul 20\")"
   ]
  },
  {
   "cell_type": "code",
   "execution_count": 200,
   "metadata": {},
   "outputs": [
    {
     "name": "stdout",
     "output_type": "stream",
     "text": [
      "Minimum occupancy: 0.36031052927457824\n",
      "Minimum occupancy (weekend): 0.43098846106182737\n"
     ]
    }
   ],
   "source": [
    "print(\"Minimum occupancy:\", jun29_jul5['occupancy'].min())\n",
    "print(\"Minimum occupancy (weekend):\", jun29_jul5[jun29_jul5['day'].isin(['Saturday', 'Sunday'])]['occupancy'].min())"
   ]
  },
  {
   "cell_type": "markdown",
   "metadata": {},
   "source": [
    "## Closing\n",
    "\n",
    "The carpark data largely mirrors reported changes in behaviour as a result of the Circuit Breaker - occupancy at HDB carparks has significantly increased as a result of more people working from home instead of taking their cars out. \n",
    "\n",
    "As the country moves to each consecutive phase, there are incremental changes in the data that suggest that car movement is slowly trending back to normal pre-COVID levels. However, with the country still in phase 2 of reopening, these trends are a far cry from normal levels - only time can tell if or when things can go back to normal."
   ]
  }
 ],
 "metadata": {
  "kernelspec": {
   "display_name": "Python 3",
   "language": "python",
   "name": "python3"
  },
  "language_info": {
   "codemirror_mode": {
    "name": "ipython",
    "version": 3
   },
   "file_extension": ".py",
   "mimetype": "text/x-python",
   "name": "python",
   "nbconvert_exporter": "python",
   "pygments_lexer": "ipython3",
   "version": "3.7.6"
  }
 },
 "nbformat": 4,
 "nbformat_minor": 4
}
